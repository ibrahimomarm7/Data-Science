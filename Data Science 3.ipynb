{
    "cells": [
        {
            "cell_type": "markdown",
            "metadata": {
                "collapsed": true,
                "id": "34c9435e-86a5-4a26-8b43-93f26019b194",
                "jupyter": {
                    "outputs_hidden": true
                }
            },
            "source": "#Description\nThis notebook analyses and visualises CustomerLoyaltyProgram.csv"
        },
        {
            "cell_type": "code",
            "execution_count": null,
            "metadata": {
                "id": "4fb8a969-845b-43fd-8433-20a7a7860b26"
            },
            "outputs": [],
            "source": "# The code was removed by Watson Studio for sharing."
        }
    ],
    "metadata": {
        "kernelspec": {
            "display_name": "Python 3.11",
            "language": "python",
            "name": "python3"
        },
        "language_info": {
            "codemirror_mode": {
                "name": "ipython",
                "version": 3
            },
            "file_extension": ".py",
            "mimetype": "text/x-python",
            "name": "python",
            "nbconvert_exporter": "python",
            "pygments_lexer": "ipython3",
            "version": "3.11.9"
        }
    },
    "nbformat": 4,
    "nbformat_minor": 4
}