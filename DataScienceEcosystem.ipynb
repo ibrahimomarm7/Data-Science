{
 "cells": [
  {
   "cell_type": "markdown",
   "id": "e1d8beee-bfe4-41de-85bc-a80bbd4487c2",
   "metadata": {},
   "source": [
    "Data Science Tools and Ecosystem"
   ]
  },
  {
   "cell_type": "markdown",
   "id": "41c169d6-8d0b-4887-80a9-bcae1f44b6b5",
   "metadata": {},
   "source": [
    "In this notebook, Data Science Tools and Ecosystem are summarized."
   ]
  },
  {
   "cell_type": "markdown",
   "id": "42353140-391e-4910-b46a-e511f844ce23",
   "metadata": {},
   "source": [
    "Some of the popular languages that Data Scientists use are:\n",
    "\n",
    "1. Python  \n",
    "2. R  \n",
    "3. SQL  \n",
    "4. Julia  \n",
    "5. Scala  \n"
   ]
  },
  {
   "cell_type": "markdown",
   "id": "cd8a7437-bb4e-4e40-8de6-238b7b37ff0d",
   "metadata": {},
   "source": [
    "Some of the commonly used libraries used by Data Scientists include:\n",
    "\n",
    "1. NumPy  \n",
    "2. Pandas  \n",
    "3. Matplotlib  \n",
    "4. Scikit-learn  \n",
    "5. TensorFlow  \n"
   ]
  },
  {
   "cell_type": "markdown",
   "id": "fa59463e-cdeb-44ab-bd3d-bbcc732fb173",
   "metadata": {},
   "source": [
    "| Data Science Tools        |\n",
    "|---------------------------|\n",
    "| Jupyter Notebook          |\n",
    "| RStudio                   |\n",
    "| Apache Zeppelin           |\n"
   ]
  },
  {
   "cell_type": "markdown",
   "id": "82bbc1d9-9ce9-4dd0-8a4b-96300e062b04",
   "metadata": {},
   "source": [
    "### Below are a few examples of evaluating arithmetic expressions in Python.\n"
   ]
  },
  {
   "cell_type": "code",
   "execution_count": 7,
   "id": "9b4b62ea-08f6-4bec-ba29-3add47c4bd7e",
   "metadata": {},
   "outputs": [
    {
     "data": {
      "text/plain": [
       "17"
      ]
     },
     "execution_count": 7,
     "metadata": {},
     "output_type": "execute_result"
    }
   ],
   "source": [
    "# This is a simple arithmetic expression to multiply then add integers\n",
    "(3 * 4) + 5\n"
   ]
  },
  {
   "cell_type": "code",
   "execution_count": 9,
   "id": "bcf7b517-70ae-480d-9052-203552b5ea19",
   "metadata": {},
   "outputs": [
    {
     "data": {
      "text/plain": [
       "3.3333333333333335"
      ]
     },
     "execution_count": 9,
     "metadata": {},
     "output_type": "execute_result"
    }
   ],
   "source": [
    "# This will convert 200 minutes to hours by dividing by 60\n",
    "200 / 60\n"
   ]
  },
  {
   "cell_type": "markdown",
   "id": "0475ab0c-6b7e-4bdd-ae3b-569e21ef4795",
   "metadata": {},
   "source": [
    "**Objectives:**\n",
    "\n",
    "- List popular languages for Data Science  \n",
    "- Identify commonly used Data Science libraries  \n",
    "- Create and format tables using markdown  \n",
    "- Perform arithmetic operations using Python code  \n",
    "- Convert units (e.g., minutes to hours) using Python expressions  \n"
   ]
  },
  {
   "cell_type": "markdown",
   "id": "de4eb43d-9cf3-4ccb-977b-329220a43e20",
   "metadata": {},
   "source": [
    "## Author\n",
    "\n",
    "Ibrahim Omar Mohamed\n"
   ]
  },
  {
   "cell_type": "code",
   "execution_count": null,
   "id": "db8ad354-2d25-4917-b817-0312b6058345",
   "metadata": {},
   "outputs": [],
   "source": []
  }
 ],
 "metadata": {
  "kernelspec": {
   "display_name": "Python [conda env:base] *",
   "language": "python",
   "name": "conda-base-py"
  },
  "language_info": {
   "codemirror_mode": {
    "name": "ipython",
    "version": 3
   },
   "file_extension": ".py",
   "mimetype": "text/x-python",
   "name": "python",
   "nbconvert_exporter": "python",
   "pygments_lexer": "ipython3",
   "version": "3.12.7"
  }
 },
 "nbformat": 4,
 "nbformat_minor": 5
}
